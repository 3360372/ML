{
 "cells": [
  {
   "cell_type": "code",
   "execution_count": null,
   "metadata": {},
   "outputs": [],
   "source": [
    "import numpy as np\n",
    "import pandas as pd\n",
    "\n",
    "class LinearRegression(object):\n",
    "    def __init__(self, fit_intercept=True, copy_X=True):\n",
    "        self.fit_intercept = fit_intercept #절편값\n",
    "        self.copy_X = copy_X #X데이터 카피값\n",
    "\n",
    "        self._coef = None \n",
    "        self._intercept = None\n",
    "        self._new_X = None\n",
    "\n",
    "    def fit(self, X, y):\n",
    "        self._new_X=np.array(X) #X값을 array형태로 복사\n",
    "        y=y.reshape(-1,1) #계산의 편의를 위해 이차원벡터로 변경\n",
    "        \n",
    "        #w0,wn에 대한 식 전개\n",
    "        if self.fit_intercept:\n",
    "            intercept_vector=np.ones([len(self.new_X,1)])\n",
    "            self._new_X=np.concatenate(\n",
    "                (intercept_vector, self._new_X), axis=1)\n",
    "        weights=np.linalg.inv(\n",
    "            self._new_X.T.dot(self._new_X)).dot(\n",
    "                                        self._new_X.T.dot(y)).flatten()\n",
    "        #계수값,절편 계산\n",
    "        if self.fit_intercept:\n",
    "            self._intercept=weights[0]\n",
    "            self._coef=weights[1:]\n",
    "        else:\n",
    "            self._coef=weights\n",
    "\n",
    "    def predict(self, X):\n",
    "        test_X=np.array(X)\n",
    "        \n",
    "        if self.fit_intercept:\n",
    "            intercept_vector=np.ones([len(test_X),1])\n",
    "            test_X=np.concatenate(\n",
    "                (intercept_vector,test_X), axis=1)\n",
    "            weights=np.concatenate(([self.intercept], self._coef), axis=0)\n",
    "        \n",
    "        else:\n",
    "            weights=self._coef\n",
    "        return test_X.dot(weights)\n",
    "    \n",
    "    @property\n",
    "    def coef(self): #계수값(weight)\n",
    "        return self._coef\n",
    "\n",
    "    @property\n",
    "    def intercept(self):\n",
    "        return self._intercept"
   ]
  }
 ],
 "metadata": {
  "kernelspec": {
   "display_name": "Python 3",
   "language": "python",
   "name": "python3"
  },
  "language_info": {
   "codemirror_mode": {
    "name": "ipython",
    "version": 3
   },
   "file_extension": ".py",
   "mimetype": "text/x-python",
   "name": "python",
   "nbconvert_exporter": "python",
   "pygments_lexer": "ipython3",
   "version": "3.7.6"
  }
 },
 "nbformat": 4,
 "nbformat_minor": 4
}
