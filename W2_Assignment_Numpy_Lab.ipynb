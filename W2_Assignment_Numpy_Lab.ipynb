{
 "cells": [
  {
   "cell_type": "code",
   "execution_count": 1,
   "metadata": {},
   "outputs": [],
   "source": [
    "import numpy as np"
   ]
  },
  {
   "cell_type": "code",
   "execution_count": 5,
   "metadata": {},
   "outputs": [
    {
     "data": {
      "text/plain": [
       "array([[ 0,  1,  2,  3,  4],\n",
       "       [ 5,  6,  7,  8,  9],\n",
       "       [10, 11, 12, 13, 14],\n",
       "       [15, 16, 17, 18, 19],\n",
       "       [20, 21, 22, 23, 24]])"
      ]
     },
     "execution_count": 5,
     "metadata": {},
     "output_type": "execute_result"
    }
   ],
   "source": [
    "def n_size_ndarray_creation(n, dtype=np.int):\n",
    "    X=np.array(range(n**2), dtype=dtype).reshape(n,n)\n",
    "    return X\n",
    "\n",
    "n_size_ndarray_creation(5)"
   ]
  },
  {
   "cell_type": "code",
   "execution_count": 30,
   "metadata": {},
   "outputs": [
    {
     "name": "stdout",
     "output_type": "stream",
     "text": [
      "[[[1063872312        549         50          0]\n",
      "  [         0          0          0          0]\n",
      "  [         0          0 1852990827  942566501]]\n",
      "\n",
      " [[ 842479670  758592054 1697657957  892548141]\n",
      "  [1631071538  959275569  811688291 1717711672]\n",
      "  [ 775172914 1952543859 1600484213 1970496882]]]\n",
      "[[[0 0 0 0]\n",
      "  [0 0 0 0]\n",
      "  [0 0 0 0]]\n",
      "\n",
      " [[0 0 0 0]\n",
      "  [0 0 0 0]\n",
      "  [0 0 0 0]]]\n",
      "[[[1 1 1 1]\n",
      "  [1 1 1 1]\n",
      "  [1 1 1 1]]\n",
      "\n",
      " [[1 1 1 1]\n",
      "  [1 1 1 1]\n",
      "  [1 1 1 1]]]\n"
     ]
    }
   ],
   "source": [
    "def zero_or_one_or_empty_ndarray(shape, type, dtype=np.int):\n",
    "    if type==99:\n",
    "        X=np.empty(shape=shape, dtype=dtype)\n",
    "    if type==0:\n",
    "        X=np.zeros(shape=shape, dtype=dtype)\n",
    "    if type==1:\n",
    "        X=np.ones(shape=shape, dtype=dtype)\n",
    "    \n",
    "    return X\n",
    "\n",
    "print(zero_or_one_or_empty_ndarray((2,3,4), type=99))\n",
    "print(zero_or_one_or_empty_ndarray((2,3,4), type=0))\n",
    "print(zero_or_one_or_empty_ndarray((2,3,4), type=1))\n"
   ]
  },
  {
   "cell_type": "code",
   "execution_count": 46,
   "metadata": {},
   "outputs": [
    {
     "name": "stdout",
     "output_type": "stream",
     "text": [
      "[1 1 1 1 1 1 1 1]\n",
      "[[1 1]\n",
      " [1 1]\n",
      " [1 1]\n",
      " [1 1]]\n"
     ]
    }
   ],
   "source": [
    "def change_shape_of_ndarray(X, n_row):\n",
    "    if n_row==1:\n",
    "        return X.flatten()\n",
    "    else:\n",
    "        return X.reshape(n_row,-1)\n",
    "\n",
    "X=np.ones((4,2),dtype=np.int)\n",
    "print(change_shape_of_ndarray(X, 1))\n",
    "print(change_shape_of_ndarray(X, 4))"
   ]
  },
  {
   "cell_type": "code",
   "execution_count": 68,
   "metadata": {},
   "outputs": [
    {
     "name": "stdout",
     "output_type": "stream",
     "text": [
      "[[ 0  1  2  3]\n",
      " [ 4  5  6  7]\n",
      " [ 8  9 10 11]\n",
      " [12 13 14 15]]\n",
      "[[ 0  1  2  3  4  5  6  7]\n",
      " [ 8  9 10 11 12 13 14 15]\n",
      " [16 17 18 19 20 21 22 23]\n",
      " [24 25 26 27 28 29 30 31]]\n"
     ]
    },
    {
     "data": {
      "text/plain": [
       "array([[ 0,  1,  2,  3,  0,  1,  2,  3,  4,  5,  6,  7],\n",
       "       [ 4,  5,  6,  7,  8,  9, 10, 11, 12, 13, 14, 15],\n",
       "       [ 8,  9, 10, 11, 16, 17, 18, 19, 20, 21, 22, 23],\n",
       "       [12, 13, 14, 15, 24, 25, 26, 27, 28, 29, 30, 31]])"
      ]
     },
     "execution_count": 68,
     "metadata": {},
     "output_type": "execute_result"
    }
   ],
   "source": [
    "def concat_ndarray(X_1, X_2, axis):\n",
    "    if X_1.ndim==1:\n",
    "        X_1=X_1.reshape(1,-1)\n",
    "    if X_2.ndim==1:\n",
    "        X_2=X_2.reshape(1,-1)\n",
    "    return np.concatenate((X_1, X_2), axis=axis)\n",
    "\n",
    "A=np.arange(16).reshape(4,4)\n",
    "print(A)\n",
    "\n",
    "B=np.arange(32).reshape(4,-1)\n",
    "print(B)\n",
    "\n",
    "concat_ndarray(A, B, axis=1)"
   ]
  },
  {
   "cell_type": "code",
   "execution_count": 75,
   "metadata": {},
   "outputs": [
    {
     "name": "stdout",
     "output_type": "stream",
     "text": [
      "[[-1.593255   -1.3035723 ]\n",
      " [-1.0138896  -0.7242068 ]\n",
      " [-0.4345241  -0.14484136]\n",
      " [ 0.14484136  0.4345241 ]\n",
      " [ 0.7242068   1.0138896 ]\n",
      " [ 1.3035723   1.593255  ]]\n",
      "[[-1.46385 -1.46385]\n",
      " [-0.87831 -0.87831]\n",
      " [-0.29277 -0.29277]\n",
      " [ 0.29277  0.29277]\n",
      " [ 0.87831  0.87831]\n",
      " [ 1.46385  1.46385]]\n",
      "[[-1.  1.]\n",
      " [-1.  1.]\n",
      " [-1.  1.]\n",
      " [-1.  1.]\n",
      " [-1.  1.]\n",
      " [-1.  1.]]\n"
     ]
    }
   ],
   "source": [
    "def normalize_ndarray(X, axis, dtype=np.float32):\n",
    "    X=X.astype(np.float32)\n",
    "    n_row, n_column = X.shape\n",
    "    \n",
    "    if axis==99:\n",
    "        x_mean=np.mean(X)\n",
    "        x_std=np.std(X)\n",
    "        Z=(X-x_mean)/x_std\n",
    "    if axis==0:\n",
    "        x_mean=np.mean(X,0).reshape(1,-1)\n",
    "        x_std=np.std(X,0).reshape(1,-1)\n",
    "        Z=(X-x_mean)/x_std\n",
    "    if axis==1:\n",
    "        x_mean=np.mean(X,1).reshape(n_row,-1)\n",
    "        x_std=np.std(X,1).reshape(n_row,-1)\n",
    "        Z=(X-x_mean)/x_std\n",
    "        \n",
    "    return Z\n",
    "        \n",
    "X=np.arange(12, dtype=np.float32).reshape(6,2)\n",
    "print(normalize_ndarray(X, axis=99))\n",
    "print(normalize_ndarray(X, axis=0))\n",
    "print(normalize_ndarray(X, axis=1))"
   ]
  },
  {
   "cell_type": "code",
   "execution_count": 76,
   "metadata": {},
   "outputs": [],
   "source": [
    "def save_ndarray(X, filename=\"test.npy\"):\n",
    "    npy_array=np.load(file=\"npy_test.npy\")\n",
    "    \n",
    "X=np.arange(32, dtype=np.float32).reshape(4, -1)\n",
    "save_ndarray(X)"
   ]
  },
  {
   "cell_type": "code",
   "execution_count": 77,
   "metadata": {},
   "outputs": [
    {
     "data": {
      "text/plain": [
       "(array([ 7,  8,  9, 10, 11, 12, 13, 14, 15, 16, 17, 18, 19, 20, 21, 22, 23,\n",
       "        24, 25, 26, 27, 28, 29, 30, 31], dtype=int64),)"
      ]
     },
     "execution_count": 77,
     "metadata": {},
     "output_type": "execute_result"
    }
   ],
   "source": [
    "def boolean_index(X, condition):\n",
    "    condition=eval(str(\"X\")+condition)\n",
    "    return np.where(condition)\n",
    "\n",
    "X=np.arange(32, dtype=np.float32)\n",
    "boolean_index(X, \"> 6\")"
   ]
  },
  {
   "cell_type": "code",
   "execution_count": 85,
   "metadata": {},
   "outputs": [
    {
     "name": "stdout",
     "output_type": "stream",
     "text": [
      "[0.97035348 0.68857976 0.63117818 0.12901907 0.38245759]\n"
     ]
    },
    {
     "data": {
      "text/plain": [
       "0.38245758593721413"
      ]
     },
     "execution_count": 85,
     "metadata": {},
     "output_type": "execute_result"
    }
   ],
   "source": [
    "def find_nearest_value(X, target_value):\n",
    "   return X[np.argmin(np.abs(X-target_value))]\n",
    "\n",
    "X=np.random.uniform(0,1,5)\n",
    "print(X)\n",
    "find_nearest_value(X, 0.3)"
   ]
  },
  {
   "cell_type": "code",
   "execution_count": 98,
   "metadata": {},
   "outputs": [
    {
     "name": "stdout",
     "output_type": "stream",
     "text": [
      "[0.41490142 0.51133165 0.72732299 0.00805639 0.11749668]\n"
     ]
    },
    {
     "data": {
      "text/plain": [
       "array([0.72732299, 0.51133165, 0.41490142])"
      ]
     },
     "execution_count": 98,
     "metadata": {},
     "output_type": "execute_result"
    }
   ],
   "source": [
    "def get_n_largest_values(X, n):\n",
    "    X=X[np.argsort(X)[::-1][:n]]\n",
    "    return X\n",
    "\n",
    "X=np.random.uniform(0,1,5)\n",
    "print(X)\n",
    "get_n_largest_values(X, 3)"
   ]
  },
  {
   "cell_type": "code",
   "execution_count": null,
   "metadata": {},
   "outputs": [],
   "source": []
  }
 ],
 "metadata": {
  "kernelspec": {
   "display_name": "Python 3",
   "language": "python",
   "name": "python3"
  },
  "language_info": {
   "codemirror_mode": {
    "name": "ipython",
    "version": 3
   },
   "file_extension": ".py",
   "mimetype": "text/x-python",
   "name": "python",
   "nbconvert_exporter": "python",
   "pygments_lexer": "ipython3",
   "version": "3.7.6"
  }
 },
 "nbformat": 4,
 "nbformat_minor": 4
}
